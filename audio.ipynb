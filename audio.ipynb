{
 "cells": [
  {
   "metadata": {
    "ExecuteTime": {
     "end_time": "2025-05-18T08:03:34.324872Z",
     "start_time": "2025-05-18T08:03:30.953536Z"
    }
   },
   "cell_type": "code",
   "source": "!pip install transformers datasets torchaudio librosa\n",
   "id": "6bc5c8e6f39eacb7",
   "outputs": [
    {
     "name": "stdout",
     "output_type": "stream",
     "text": [
      "Requirement already satisfied: transformers in c:\\users\\victus\\onedrive\\desktop\\inter\\.venv\\lib\\site-packages (4.51.3)\n",
      "Requirement already satisfied: datasets in c:\\users\\victus\\onedrive\\desktop\\inter\\.venv\\lib\\site-packages (3.6.0)\n",
      "Requirement already satisfied: torchaudio in c:\\users\\victus\\onedrive\\desktop\\inter\\.venv\\lib\\site-packages (2.7.0)\n",
      "Requirement already satisfied: librosa in c:\\users\\victus\\onedrive\\desktop\\inter\\.venv\\lib\\site-packages (0.11.0)\n",
      "Requirement already satisfied: filelock in c:\\users\\victus\\onedrive\\desktop\\inter\\.venv\\lib\\site-packages (from transformers) (3.18.0)\n",
      "Requirement already satisfied: huggingface-hub<1.0,>=0.30.0 in c:\\users\\victus\\onedrive\\desktop\\inter\\.venv\\lib\\site-packages (from transformers) (0.31.2)\n",
      "Requirement already satisfied: numpy>=1.17 in c:\\users\\victus\\onedrive\\desktop\\inter\\.venv\\lib\\site-packages (from transformers) (2.2.5)\n",
      "Requirement already satisfied: packaging>=20.0 in c:\\users\\victus\\onedrive\\desktop\\inter\\.venv\\lib\\site-packages (from transformers) (25.0)\n",
      "Requirement already satisfied: pyyaml>=5.1 in c:\\users\\victus\\onedrive\\desktop\\inter\\.venv\\lib\\site-packages (from transformers) (6.0.2)\n",
      "Requirement already satisfied: regex!=2019.12.17 in c:\\users\\victus\\onedrive\\desktop\\inter\\.venv\\lib\\site-packages (from transformers) (2024.11.6)\n",
      "Requirement already satisfied: requests in c:\\users\\victus\\onedrive\\desktop\\inter\\.venv\\lib\\site-packages (from transformers) (2.32.3)\n",
      "Requirement already satisfied: tokenizers<0.22,>=0.21 in c:\\users\\victus\\onedrive\\desktop\\inter\\.venv\\lib\\site-packages (from transformers) (0.21.1)\n",
      "Requirement already satisfied: safetensors>=0.4.3 in c:\\users\\victus\\onedrive\\desktop\\inter\\.venv\\lib\\site-packages (from transformers) (0.5.3)\n",
      "Requirement already satisfied: tqdm>=4.27 in c:\\users\\victus\\onedrive\\desktop\\inter\\.venv\\lib\\site-packages (from transformers) (4.67.1)\n",
      "Requirement already satisfied: pyarrow>=15.0.0 in c:\\users\\victus\\onedrive\\desktop\\inter\\.venv\\lib\\site-packages (from datasets) (20.0.0)\n",
      "Requirement already satisfied: dill<0.3.9,>=0.3.0 in c:\\users\\victus\\onedrive\\desktop\\inter\\.venv\\lib\\site-packages (from datasets) (0.3.8)\n",
      "Requirement already satisfied: pandas in c:\\users\\victus\\onedrive\\desktop\\inter\\.venv\\lib\\site-packages (from datasets) (2.2.3)\n",
      "Requirement already satisfied: xxhash in c:\\users\\victus\\onedrive\\desktop\\inter\\.venv\\lib\\site-packages (from datasets) (3.5.0)\n",
      "Requirement already satisfied: multiprocess<0.70.17 in c:\\users\\victus\\onedrive\\desktop\\inter\\.venv\\lib\\site-packages (from datasets) (0.70.16)\n",
      "Requirement already satisfied: fsspec<=2025.3.0,>=2023.1.0 in c:\\users\\victus\\onedrive\\desktop\\inter\\.venv\\lib\\site-packages (from fsspec[http]<=2025.3.0,>=2023.1.0->datasets) (2025.3.0)\n",
      "Requirement already satisfied: torch==2.7.0 in c:\\users\\victus\\onedrive\\desktop\\inter\\.venv\\lib\\site-packages (from torchaudio) (2.7.0)\n",
      "Requirement already satisfied: typing-extensions>=4.10.0 in c:\\users\\victus\\onedrive\\desktop\\inter\\.venv\\lib\\site-packages (from torch==2.7.0->torchaudio) (4.13.2)\n",
      "Requirement already satisfied: sympy>=1.13.3 in c:\\users\\victus\\onedrive\\desktop\\inter\\.venv\\lib\\site-packages (from torch==2.7.0->torchaudio) (1.14.0)\n",
      "Requirement already satisfied: networkx in c:\\users\\victus\\onedrive\\desktop\\inter\\.venv\\lib\\site-packages (from torch==2.7.0->torchaudio) (3.4.2)\n",
      "Requirement already satisfied: jinja2 in c:\\users\\victus\\onedrive\\desktop\\inter\\.venv\\lib\\site-packages (from torch==2.7.0->torchaudio) (3.1.6)\n",
      "Requirement already satisfied: setuptools in c:\\users\\victus\\onedrive\\desktop\\inter\\.venv\\lib\\site-packages (from torch==2.7.0->torchaudio) (80.7.1)\n",
      "Requirement already satisfied: audioread>=2.1.9 in c:\\users\\victus\\onedrive\\desktop\\inter\\.venv\\lib\\site-packages (from librosa) (3.0.1)\n",
      "Requirement already satisfied: numba>=0.51.0 in c:\\users\\victus\\onedrive\\desktop\\inter\\.venv\\lib\\site-packages (from librosa) (0.61.2)\n",
      "Requirement already satisfied: scipy>=1.6.0 in c:\\users\\victus\\onedrive\\desktop\\inter\\.venv\\lib\\site-packages (from librosa) (1.15.3)\n",
      "Requirement already satisfied: scikit-learn>=1.1.0 in c:\\users\\victus\\onedrive\\desktop\\inter\\.venv\\lib\\site-packages (from librosa) (1.6.1)\n",
      "Requirement already satisfied: joblib>=1.0 in c:\\users\\victus\\onedrive\\desktop\\inter\\.venv\\lib\\site-packages (from librosa) (1.5.0)\n",
      "Requirement already satisfied: decorator>=4.3.0 in c:\\users\\victus\\onedrive\\desktop\\inter\\.venv\\lib\\site-packages (from librosa) (5.2.1)\n",
      "Requirement already satisfied: soundfile>=0.12.1 in c:\\users\\victus\\onedrive\\desktop\\inter\\.venv\\lib\\site-packages (from librosa) (0.13.1)\n",
      "Requirement already satisfied: pooch>=1.1 in c:\\users\\victus\\onedrive\\desktop\\inter\\.venv\\lib\\site-packages (from librosa) (1.8.2)\n",
      "Requirement already satisfied: soxr>=0.3.2 in c:\\users\\victus\\onedrive\\desktop\\inter\\.venv\\lib\\site-packages (from librosa) (0.5.0.post1)\n",
      "Requirement already satisfied: lazy_loader>=0.1 in c:\\users\\victus\\onedrive\\desktop\\inter\\.venv\\lib\\site-packages (from librosa) (0.4)\n",
      "Requirement already satisfied: msgpack>=1.0 in c:\\users\\victus\\onedrive\\desktop\\inter\\.venv\\lib\\site-packages (from librosa) (1.1.0)\n",
      "Requirement already satisfied: aiohttp!=4.0.0a0,!=4.0.0a1 in c:\\users\\victus\\onedrive\\desktop\\inter\\.venv\\lib\\site-packages (from fsspec[http]<=2025.3.0,>=2023.1.0->datasets) (3.11.18)\n",
      "Requirement already satisfied: llvmlite<0.45,>=0.44.0dev0 in c:\\users\\victus\\onedrive\\desktop\\inter\\.venv\\lib\\site-packages (from numba>=0.51.0->librosa) (0.44.0)\n",
      "Requirement already satisfied: platformdirs>=2.5.0 in c:\\users\\victus\\onedrive\\desktop\\inter\\.venv\\lib\\site-packages (from pooch>=1.1->librosa) (4.3.8)\n",
      "Requirement already satisfied: charset-normalizer<4,>=2 in c:\\users\\victus\\onedrive\\desktop\\inter\\.venv\\lib\\site-packages (from requests->transformers) (3.4.2)\n",
      "Requirement already satisfied: idna<4,>=2.5 in c:\\users\\victus\\onedrive\\desktop\\inter\\.venv\\lib\\site-packages (from requests->transformers) (3.10)\n",
      "Requirement already satisfied: urllib3<3,>=1.21.1 in c:\\users\\victus\\onedrive\\desktop\\inter\\.venv\\lib\\site-packages (from requests->transformers) (2.4.0)\n",
      "Requirement already satisfied: certifi>=2017.4.17 in c:\\users\\victus\\onedrive\\desktop\\inter\\.venv\\lib\\site-packages (from requests->transformers) (2025.4.26)\n",
      "Requirement already satisfied: threadpoolctl>=3.1.0 in c:\\users\\victus\\onedrive\\desktop\\inter\\.venv\\lib\\site-packages (from scikit-learn>=1.1.0->librosa) (3.6.0)\n",
      "Requirement already satisfied: cffi>=1.0 in c:\\users\\victus\\onedrive\\desktop\\inter\\.venv\\lib\\site-packages (from soundfile>=0.12.1->librosa) (1.17.1)\n",
      "Requirement already satisfied: colorama in c:\\users\\victus\\onedrive\\desktop\\inter\\.venv\\lib\\site-packages (from tqdm>=4.27->transformers) (0.4.6)\n",
      "Requirement already satisfied: python-dateutil>=2.8.2 in c:\\users\\victus\\onedrive\\desktop\\inter\\.venv\\lib\\site-packages (from pandas->datasets) (2.9.0.post0)\n",
      "Requirement already satisfied: pytz>=2020.1 in c:\\users\\victus\\onedrive\\desktop\\inter\\.venv\\lib\\site-packages (from pandas->datasets) (2025.2)\n",
      "Requirement already satisfied: tzdata>=2022.7 in c:\\users\\victus\\onedrive\\desktop\\inter\\.venv\\lib\\site-packages (from pandas->datasets) (2025.2)\n",
      "Requirement already satisfied: aiohappyeyeballs>=2.3.0 in c:\\users\\victus\\onedrive\\desktop\\inter\\.venv\\lib\\site-packages (from aiohttp!=4.0.0a0,!=4.0.0a1->fsspec[http]<=2025.3.0,>=2023.1.0->datasets) (2.6.1)\n",
      "Requirement already satisfied: aiosignal>=1.1.2 in c:\\users\\victus\\onedrive\\desktop\\inter\\.venv\\lib\\site-packages (from aiohttp!=4.0.0a0,!=4.0.0a1->fsspec[http]<=2025.3.0,>=2023.1.0->datasets) (1.3.2)\n",
      "Requirement already satisfied: attrs>=17.3.0 in c:\\users\\victus\\onedrive\\desktop\\inter\\.venv\\lib\\site-packages (from aiohttp!=4.0.0a0,!=4.0.0a1->fsspec[http]<=2025.3.0,>=2023.1.0->datasets) (25.3.0)\n",
      "Requirement already satisfied: frozenlist>=1.1.1 in c:\\users\\victus\\onedrive\\desktop\\inter\\.venv\\lib\\site-packages (from aiohttp!=4.0.0a0,!=4.0.0a1->fsspec[http]<=2025.3.0,>=2023.1.0->datasets) (1.6.0)\n",
      "Requirement already satisfied: multidict<7.0,>=4.5 in c:\\users\\victus\\onedrive\\desktop\\inter\\.venv\\lib\\site-packages (from aiohttp!=4.0.0a0,!=4.0.0a1->fsspec[http]<=2025.3.0,>=2023.1.0->datasets) (6.4.3)\n",
      "Requirement already satisfied: propcache>=0.2.0 in c:\\users\\victus\\onedrive\\desktop\\inter\\.venv\\lib\\site-packages (from aiohttp!=4.0.0a0,!=4.0.0a1->fsspec[http]<=2025.3.0,>=2023.1.0->datasets) (0.3.1)\n",
      "Requirement already satisfied: yarl<2.0,>=1.17.0 in c:\\users\\victus\\onedrive\\desktop\\inter\\.venv\\lib\\site-packages (from aiohttp!=4.0.0a0,!=4.0.0a1->fsspec[http]<=2025.3.0,>=2023.1.0->datasets) (1.20.0)\n",
      "Requirement already satisfied: pycparser in c:\\users\\victus\\onedrive\\desktop\\inter\\.venv\\lib\\site-packages (from cffi>=1.0->soundfile>=0.12.1->librosa) (2.22)\n",
      "Requirement already satisfied: six>=1.5 in c:\\users\\victus\\onedrive\\desktop\\inter\\.venv\\lib\\site-packages (from python-dateutil>=2.8.2->pandas->datasets) (1.17.0)\n",
      "Requirement already satisfied: mpmath<1.4,>=1.1.0 in c:\\users\\victus\\onedrive\\desktop\\inter\\.venv\\lib\\site-packages (from sympy>=1.13.3->torch==2.7.0->torchaudio) (1.3.0)\n",
      "Requirement already satisfied: MarkupSafe>=2.0 in c:\\users\\victus\\onedrive\\desktop\\inter\\.venv\\lib\\site-packages (from jinja2->torch==2.7.0->torchaudio) (3.0.2)\n"
     ]
    },
    {
     "name": "stderr",
     "output_type": "stream",
     "text": [
      "\n",
      "[notice] A new release of pip is available: 25.0.1 -> 25.1.1\n",
      "[notice] To update, run: python.exe -m pip install --upgrade pip\n"
     ]
    }
   ],
   "execution_count": 1
  },
  {
   "metadata": {
    "ExecuteTime": {
     "end_time": "2025-05-18T09:00:31.715957Z",
     "start_time": "2025-05-18T09:00:19.059778Z"
    }
   },
   "cell_type": "code",
   "source": [
    "from transformers import pipeline\n",
    "\n",
    "# Initialize the whisper pipeline\n",
    "whisper_pipeline = pipeline(\"automatic-speech-recognition\", model=\"openai/whisper-base\")\n",
    "\n",
    "# Path to your audio file\n",
    "audio_path = r\"C:\\Users\\VICTUS\\OneDrive\\Desktop\\inter\\love.mp3\"\n",
    "\n",
    "# Transcribe the audio with timestamps enabled\n",
    "result = whisper_pipeline(audio_path, return_timestamps=True)\n",
    "\n",
    "# Print the transcribed text\n",
    "print(\"Transcribed Text:\")\n",
    "# For timestamp-enabled output, the text is in a different format\n",
    "if isinstance(result, dict) and \"text\" in result:\n",
    "    print(result[\"text\"])\n",
    "else:\n",
    "    # Handle chunked output with timestamps\n",
    "    for chunk in result:\n",
    "        if \"text\" in chunk:\n",
    "            print(chunk[\"text\"])"
   ],
   "id": "e5735203b8afb339",
   "outputs": [
    {
     "name": "stderr",
     "output_type": "stream",
     "text": [
      "Device set to use cpu\n"
     ]
    },
    {
     "name": "stdout",
     "output_type": "stream",
     "text": [
      "Transcribed Text:\n",
      " You're the life, you're the life, you're the color of my blood You're the cure, you're the pain, you're the only thing I want to touch Never knew that it could mean so much, so much You're the fear, I don't care, cause I've never been so high Follow me through the dark And we're taking a pass outside our lights You don't see the world you've brought to life To life So love me like you do La la la, love me like you do Love me like you do La la la, love me like you do\n"
     ]
    }
   ],
   "execution_count": 4
  }
 ],
 "metadata": {},
 "nbformat": 4,
 "nbformat_minor": 5
}
